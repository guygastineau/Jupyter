{
 "cells": [
  {
   "cell_type": "markdown",
   "metadata": {
    "collapsed": true
   },
   "source": [
    "# Spring-Mass Oscillations Simulated from Newton's 2nd Law"
   ]
  },
  {
   "cell_type": "markdown",
   "metadata": {},
   "source": [
    "Let's create spring and a mass in VPython."
   ]
  },
  {
   "cell_type": "code",
   "execution_count": 2,
   "metadata": {},
   "outputs": [
    {
     "data": {
      "text/html": [
       "<div id=\"glowscript\" class=\"glowscript\"></div>"
      ],
      "text/plain": [
       "<IPython.core.display.HTML object>"
      ]
     },
     "metadata": {},
     "output_type": "display_data"
    },
    {
     "data": {
      "application/javascript": [
       "window.__context = { glowscript_container: $(\"#glowscript\").removeAttr(\"id\")}"
      ],
      "text/plain": [
       "<IPython.core.display.Javascript object>"
      ]
     },
     "metadata": {},
     "output_type": "display_data"
    }
   ],
   "source": [
    "from vpython import *\n",
    "scene = canvas()\n",
    "\n",
    "#f1 = series(type=\"line\", color=color.blue)\n",
    "\n",
    "t = 0 #create a variable for time\n",
    "dt = 0.01 #create a variable for change in time (time step)\n",
    "springL = 10 #equilibrium length of the spring (bond)\n",
    "dx = 1 #initial displacement of mass 2\n",
    "v = 0 #start the mass with zero velocity\n",
    "k = 750 #spring constant\n",
    "m1 = 12000*1.67e-27 #mass of upper mass\n",
    "m2 = 12*1.67e-27 #mass of lower mass\n",
    "F = -k * dx\n",
    "period = 2*pi*sqrt(m2/k)\n",
    "dt = period/50\n",
    "mass1 = sphere(pos=vec(0,springL,0), radius=1.0, color=color.magenta)\n",
    "mass2 = sphere(pos=vec(0,dx,0), vel=vec(0,0,0), radius=1.0, color=color.white)\n",
    "spring = helix(pos=vec(0, springL,0), axis=vec(0,1,0))\n",
    "spring.axis = mass2.pos - mass1.pos #make the spring length correct\n",
    "\n",
    "while t<10*period:\n",
    "    rate(100)\n",
    "    accel = F/m2 #Newton's 2nd Law\n",
    "    dx = dx + v * dt + 0.5 * accel * dt*dt #use kinematics to update the position of mass 2\n",
    "    mass2.pos=vec(0,dx,0)\n",
    "    spring.axis = mass2.pos - mass1.pos\n",
    "    F = -k * dx\n",
    "    accel_next = F/m2\n",
    "    v = v + (accel+accel_next)/2 * dt #use kinematics to update the velocity\n",
    "    t = t + dt\n",
    "#    f1.plot(t, dx)"
   ]
  },
  {
   "cell_type": "code",
   "execution_count": null,
   "metadata": {},
   "outputs": [],
   "source": []
  }
 ],
 "metadata": {
  "kernelspec": {
   "display_name": "VPython",
   "language": "python",
   "name": "vpython"
  },
  "language_info": {
   "codemirror_mode": {
    "name": "ipython",
    "version": 3
   },
   "file_extension": ".py",
   "mimetype": "text/x-python",
   "name": "python",
   "nbconvert_exporter": "python",
   "pygments_lexer": "ipython3",
   "version": "3.5.5"
  }
 },
 "nbformat": 4,
 "nbformat_minor": 2
}
