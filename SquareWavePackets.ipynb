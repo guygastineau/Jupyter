{
 "cells": [
  {
   "cell_type": "markdown",
   "metadata": {},
   "source": [
    "### Square Wave Packet Widget"
   ]
  },
  {
   "cell_type": "code",
   "execution_count": 2,
   "metadata": {},
   "outputs": [
    {
     "data": {
      "application/vnd.jupyter.widget-view+json": {
       "model_id": "56af44761ae0413e80d790ac8f566c24",
       "version_major": 2,
       "version_minor": 0
      },
      "text/plain": [
       "A Jupyter Widget"
      ]
     },
     "metadata": {},
     "output_type": "display_data"
    }
   ],
   "source": [
    "# setup \n",
    "import numpy as np\n",
    "import sympy as sp\n",
    "sp.init_printing(use_latex='mathjax')\n",
    "\n",
    "import matplotlib.pyplot as plt\n",
    "plt.rcParams['figure.figsize'] = (20, 20)  # (width, height)\n",
    "plt.rcParams['font.size'] = 20\n",
    "plt.rcParams['legend.fontsize'] = 30\n",
    "from matplotlib import patches\n",
    "\n",
    "#get_ipython().magic('matplotlib')  # separate window\n",
    "get_ipython().magic('matplotlib inline') # inline plotting\n",
    "\n",
    "from __future__ import print_function\n",
    "from ipywidgets import interact, interactive, fixed, interact_manual\n",
    "import ipywidgets as widgets\n",
    "\n",
    "def f(numks, aa):\n",
    "    lam = 1e-9 # wavelength\n",
    "    kval = 2*np.pi/lam # wavenumber can be changed by changing wavelength\n",
    "    #numks = x\n",
    "    #numks = 10 # how many wavenumbers do you want in the sum?\n",
    "    aa = aa*lam/100 # width of square wave as a fraction of wavelength\n",
    "    xsquare = np.arange(-2*lam, 2*lam, lam/100) # The x values for our sine waves.\n",
    "    arrlen = np.size(xsquare)\n",
    "    ksquare = np.arange(1, numks+1, 1) # wavenumbers go from 1 to something\n",
    "    nvals = np.arange(1, numks+1, 1)\n",
    "    ksquare = ksquare * kval\n",
    "    Ans = 2/np.pi/nvals * np.sin(np.pi*aa*nvals/lam)\n",
    "    fxarg = np.ones((numks,arrlen)) # Create a matrix for kx values to simplify calculations later.\n",
    "    fxarg = fxarg[:, 0:arrlen]*xsquare # Fill the kx matrix with x values along the rows.\n",
    "    fxarg = fxarg[0:arrlen, :].T*ksquare # Multiply each column by its appropriate k value.\n",
    "    fx = np.ones((numks,arrlen))\n",
    "    fx=Ans*np.cos(fxarg) # Fill the matrix with the appropriate cosine waves.\n",
    "    \n",
    "    ones = np.ones(numks)\n",
    "    sqwv = np.matmul(fx, ones) \n",
    "    plt.figure(1)\n",
    "    plt.rcParams.update({'font.size': 20})\n",
    "    plt.rcParams.update({'legend.fontsize' : 24})\n",
    "    plt.subplot(211)\n",
    "    plt.plot(xsquare,fx[:, :]) # Plot a few of the waves to check that they look right (see Fig. 6.11 in Taylor, Zafiratos, Dubson).\n",
    "    plt.title('The waves')\n",
    "    plt.xlabel('x (m)')\n",
    "    plt.ylabel('Amplitude')\n",
    "    plt.subplot(212)\n",
    "    plt.plot(xsquare, sqwv)\n",
    "    plt.title('The wave packet')\n",
    "    plt.xlabel('x (m)')\n",
    "    plt.ylabel('Amplitude')\n",
    "    plt.subplots_adjust(top=3, bottom=0.1, left=0.1, right=3.0, hspace=0.25,\n",
    "                    wspace=0.1)\n",
    "    plt.show()\n",
    "#    return 0\n",
    "\n",
    "interact(f, numks=widgets.IntSlider(min=1,max=30,step=1,value=10), aa=widgets.IntSlider(min=5,max=95,step=5,value=5));"
   ]
  },
  {
   "cell_type": "code",
   "execution_count": null,
   "metadata": {},
   "outputs": [],
   "source": []
  }
 ],
 "metadata": {
  "kernelspec": {
   "display_name": "Python 3.6",
   "language": "python",
   "name": "python36"
  },
  "language_info": {
   "codemirror_mode": {
    "name": "ipython",
    "version": 3
   },
   "file_extension": ".py",
   "mimetype": "text/x-python",
   "name": "python",
   "nbconvert_exporter": "python",
   "pygments_lexer": "ipython3",
   "version": "3.6.3"
  }
 },
 "nbformat": 4,
 "nbformat_minor": 2
}
