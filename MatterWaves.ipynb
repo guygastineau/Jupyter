{
 "cells": [
  {
   "cell_type": "code",
   "execution_count": 1,
   "metadata": {},
   "outputs": [],
   "source": [
    "# setup by importing some good modules\n",
    "import sympy as sp\n",
    "# All calls to sympy require sp. at the beginning\n",
    "# One could use \"from sympy import *\", but then it's difficult to know what is sympy\n",
    "# and what is another module when importing multiple modules.\n",
    "# print things all pretty\n",
    "from sympy.abc import *\n",
    "sp.init_printing(use_latex='mathjax')"
   ]
  },
  {
   "cell_type": "code",
   "execution_count": 6,
   "metadata": {},
   "outputs": [
    {
     "data": {
      "text/latex": [
       "$$\\frac{x}{2} \\sin^{2}{\\left (t - x \\right )} + \\frac{x}{2} \\cos^{2}{\\left (t - x \\right )} - \\frac{1}{2} \\sin{\\left (t - x \\right )} \\cos{\\left (t - x \\right )}$$"
      ],
      "text/plain": [
       "     2               2                               \n",
       "x⋅sin (t - x)   x⋅cos (t - x)   sin(t - x)⋅cos(t - x)\n",
       "───────────── + ───────────── - ─────────────────────\n",
       "      2               2                   2          "
      ]
     },
     "execution_count": 6,
     "metadata": {},
     "output_type": "execute_result"
    }
   ],
   "source": [
    "sp.integrate(sp.cos(x-t)**2, x)"
   ]
  },
  {
   "cell_type": "code",
   "execution_count": null,
   "metadata": {},
   "outputs": [],
   "source": []
  }
 ],
 "metadata": {
  "kernelspec": {
   "display_name": "Python 3.6",
   "language": "python",
   "name": "python36"
  },
  "language_info": {
   "codemirror_mode": {
    "name": "ipython",
    "version": 3
   },
   "file_extension": ".py",
   "mimetype": "text/x-python",
   "name": "python",
   "nbconvert_exporter": "python",
   "pygments_lexer": "ipython3",
   "version": "3.6.3"
  }
 },
 "nbformat": 4,
 "nbformat_minor": 2
}
